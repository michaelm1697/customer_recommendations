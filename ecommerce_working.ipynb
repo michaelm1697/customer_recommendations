{
 "cells": [
  {
   "cell_type": "code",
   "execution_count": 1,
   "metadata": {},
   "outputs": [],
   "source": [
    "## Importing needed libraries\n",
    "import pandas as pd\n",
    "import datetime\n",
    "import numpy as np\n",
    "import random\n",
    "%matplotlib inline\n",
    "import matplotlib.pyplot as plt \n",
    "import seaborn as sns\n",
    "\n",
    "from sklearn.linear_model import LogisticRegression\n",
    "from sklearn import metrics"
   ]
  },
  {
   "cell_type": "code",
   "execution_count": 2,
   "metadata": {},
   "outputs": [],
   "source": [
    "## Importing needed files\n",
    "directory = 'C:/Users/viks9/Downloads/retailrocket/'\n",
    "\n",
    "def importData(file):\n",
    "    return pd.read_csv(directory + file + '.csv')\n",
    "\n",
    "category_tree = importData('category_tree')\n",
    "events = importData('events')\n",
    "items1 = importData('item_properties_part1')\n",
    "items2 = importData('item_properties_part2')\n",
    "items_properties = pd.concat([items1, items2])"
   ]
  },
  {
   "cell_type": "markdown",
   "metadata": {},
   "source": [
    "### Exploring and Cleaning Data"
   ]
  },
  {
   "cell_type": "code",
   "execution_count": 3,
   "metadata": {},
   "outputs": [
    {
     "data": {
      "text/html": [
       "<div>\n",
       "<style scoped>\n",
       "    .dataframe tbody tr th:only-of-type {\n",
       "        vertical-align: middle;\n",
       "    }\n",
       "\n",
       "    .dataframe tbody tr th {\n",
       "        vertical-align: top;\n",
       "    }\n",
       "\n",
       "    .dataframe thead th {\n",
       "        text-align: right;\n",
       "    }\n",
       "</style>\n",
       "<table border=\"1\" class=\"dataframe\">\n",
       "  <thead>\n",
       "    <tr style=\"text-align: right;\">\n",
       "      <th></th>\n",
       "      <th>categoryid</th>\n",
       "      <th>parentid</th>\n",
       "    </tr>\n",
       "  </thead>\n",
       "  <tbody>\n",
       "    <tr>\n",
       "      <td>0</td>\n",
       "      <td>1016</td>\n",
       "      <td>213.0</td>\n",
       "    </tr>\n",
       "    <tr>\n",
       "      <td>1</td>\n",
       "      <td>809</td>\n",
       "      <td>169.0</td>\n",
       "    </tr>\n",
       "    <tr>\n",
       "      <td>2</td>\n",
       "      <td>570</td>\n",
       "      <td>9.0</td>\n",
       "    </tr>\n",
       "    <tr>\n",
       "      <td>3</td>\n",
       "      <td>1691</td>\n",
       "      <td>885.0</td>\n",
       "    </tr>\n",
       "    <tr>\n",
       "      <td>4</td>\n",
       "      <td>536</td>\n",
       "      <td>1691.0</td>\n",
       "    </tr>\n",
       "  </tbody>\n",
       "</table>\n",
       "</div>"
      ],
      "text/plain": [
       "   categoryid  parentid\n",
       "0        1016     213.0\n",
       "1         809     169.0\n",
       "2         570       9.0\n",
       "3        1691     885.0\n",
       "4         536    1691.0"
      ]
     },
     "execution_count": 3,
     "metadata": {},
     "output_type": "execute_result"
    }
   ],
   "source": [
    "category_tree.head()"
   ]
  },
  {
   "cell_type": "code",
   "execution_count": 4,
   "metadata": {},
   "outputs": [
    {
     "data": {
      "text/html": [
       "<div>\n",
       "<style scoped>\n",
       "    .dataframe tbody tr th:only-of-type {\n",
       "        vertical-align: middle;\n",
       "    }\n",
       "\n",
       "    .dataframe tbody tr th {\n",
       "        vertical-align: top;\n",
       "    }\n",
       "\n",
       "    .dataframe thead th {\n",
       "        text-align: right;\n",
       "    }\n",
       "</style>\n",
       "<table border=\"1\" class=\"dataframe\">\n",
       "  <thead>\n",
       "    <tr style=\"text-align: right;\">\n",
       "      <th></th>\n",
       "      <th>timestamp</th>\n",
       "      <th>visitorid</th>\n",
       "      <th>event</th>\n",
       "      <th>itemid</th>\n",
       "      <th>transactionid</th>\n",
       "    </tr>\n",
       "  </thead>\n",
       "  <tbody>\n",
       "    <tr>\n",
       "      <td>0</td>\n",
       "      <td>1433221332117</td>\n",
       "      <td>257597</td>\n",
       "      <td>view</td>\n",
       "      <td>355908</td>\n",
       "      <td>NaN</td>\n",
       "    </tr>\n",
       "    <tr>\n",
       "      <td>1</td>\n",
       "      <td>1433224214164</td>\n",
       "      <td>992329</td>\n",
       "      <td>view</td>\n",
       "      <td>248676</td>\n",
       "      <td>NaN</td>\n",
       "    </tr>\n",
       "    <tr>\n",
       "      <td>2</td>\n",
       "      <td>1433221999827</td>\n",
       "      <td>111016</td>\n",
       "      <td>view</td>\n",
       "      <td>318965</td>\n",
       "      <td>NaN</td>\n",
       "    </tr>\n",
       "    <tr>\n",
       "      <td>3</td>\n",
       "      <td>1433221955914</td>\n",
       "      <td>483717</td>\n",
       "      <td>view</td>\n",
       "      <td>253185</td>\n",
       "      <td>NaN</td>\n",
       "    </tr>\n",
       "    <tr>\n",
       "      <td>4</td>\n",
       "      <td>1433221337106</td>\n",
       "      <td>951259</td>\n",
       "      <td>view</td>\n",
       "      <td>367447</td>\n",
       "      <td>NaN</td>\n",
       "    </tr>\n",
       "  </tbody>\n",
       "</table>\n",
       "</div>"
      ],
      "text/plain": [
       "       timestamp  visitorid event  itemid  transactionid\n",
       "0  1433221332117     257597  view  355908            NaN\n",
       "1  1433224214164     992329  view  248676            NaN\n",
       "2  1433221999827     111016  view  318965            NaN\n",
       "3  1433221955914     483717  view  253185            NaN\n",
       "4  1433221337106     951259  view  367447            NaN"
      ]
     },
     "execution_count": 4,
     "metadata": {},
     "output_type": "execute_result"
    }
   ],
   "source": [
    "events.head()"
   ]
  },
  {
   "cell_type": "code",
   "execution_count": 5,
   "metadata": {},
   "outputs": [],
   "source": [
    "## Converting time stamp columns from UNIX format and sorting values by the timestamp\n",
    "import datetime\n",
    "events_times =[]\n",
    "for i in events['timestamp']:\n",
    "    events_times.append(datetime.datetime.fromtimestamp(i//1000.0)) \n",
    "events['timestamp'] = events_times\n",
    "\n",
    "events = events.sort_values(by = 'timestamp')"
   ]
  },
  {
   "cell_type": "code",
   "execution_count": 6,
   "metadata": {},
   "outputs": [
    {
     "data": {
      "text/plain": [
       "timestamp              0\n",
       "visitorid              0\n",
       "event                  0\n",
       "itemid                 0\n",
       "transactionid    2733644\n",
       "dtype: int64"
      ]
     },
     "execution_count": 6,
     "metadata": {},
     "output_type": "execute_result"
    }
   ],
   "source": [
    "events.isnull().sum()"
   ]
  },
  {
   "cell_type": "markdown",
   "metadata": {},
   "source": [
    "We have 2733644 null values in the transactionid column, we will explore this more below."
   ]
  },
  {
   "cell_type": "code",
   "execution_count": 7,
   "metadata": {},
   "outputs": [
    {
     "data": {
      "text/html": [
       "<div>\n",
       "<style scoped>\n",
       "    .dataframe tbody tr th:only-of-type {\n",
       "        vertical-align: middle;\n",
       "    }\n",
       "\n",
       "    .dataframe tbody tr th {\n",
       "        vertical-align: top;\n",
       "    }\n",
       "\n",
       "    .dataframe thead th {\n",
       "        text-align: right;\n",
       "    }\n",
       "</style>\n",
       "<table border=\"1\" class=\"dataframe\">\n",
       "  <thead>\n",
       "    <tr style=\"text-align: right;\">\n",
       "      <th></th>\n",
       "      <th>timestamp</th>\n",
       "      <th>visitorid</th>\n",
       "      <th>event</th>\n",
       "      <th>itemid</th>\n",
       "      <th>transactionid</th>\n",
       "    </tr>\n",
       "  </thead>\n",
       "  <tbody>\n",
       "    <tr>\n",
       "      <td>1462974</td>\n",
       "      <td>2015-05-02 22:00:04</td>\n",
       "      <td>693516</td>\n",
       "      <td>addtocart</td>\n",
       "      <td>297662</td>\n",
       "      <td>NaN</td>\n",
       "    </tr>\n",
       "    <tr>\n",
       "      <td>1464806</td>\n",
       "      <td>2015-05-02 22:00:11</td>\n",
       "      <td>829044</td>\n",
       "      <td>view</td>\n",
       "      <td>60987</td>\n",
       "      <td>NaN</td>\n",
       "    </tr>\n",
       "    <tr>\n",
       "      <td>1463000</td>\n",
       "      <td>2015-05-02 22:00:13</td>\n",
       "      <td>652699</td>\n",
       "      <td>view</td>\n",
       "      <td>252860</td>\n",
       "      <td>NaN</td>\n",
       "    </tr>\n",
       "    <tr>\n",
       "      <td>1465287</td>\n",
       "      <td>2015-05-02 22:00:24</td>\n",
       "      <td>1125936</td>\n",
       "      <td>view</td>\n",
       "      <td>33661</td>\n",
       "      <td>NaN</td>\n",
       "    </tr>\n",
       "    <tr>\n",
       "      <td>1462955</td>\n",
       "      <td>2015-05-02 22:00:26</td>\n",
       "      <td>693516</td>\n",
       "      <td>view</td>\n",
       "      <td>297662</td>\n",
       "      <td>NaN</td>\n",
       "    </tr>\n",
       "  </tbody>\n",
       "</table>\n",
       "</div>"
      ],
      "text/plain": [
       "                  timestamp  visitorid      event  itemid  transactionid\n",
       "1462974 2015-05-02 22:00:04     693516  addtocart  297662            NaN\n",
       "1464806 2015-05-02 22:00:11     829044       view   60987            NaN\n",
       "1463000 2015-05-02 22:00:13     652699       view  252860            NaN\n",
       "1465287 2015-05-02 22:00:24    1125936       view   33661            NaN\n",
       "1462955 2015-05-02 22:00:26     693516       view  297662            NaN"
      ]
     },
     "execution_count": 7,
     "metadata": {},
     "output_type": "execute_result"
    }
   ],
   "source": [
    "events[events['transactionid'].isnull()].head()"
   ]
  },
  {
   "cell_type": "code",
   "execution_count": 8,
   "metadata": {},
   "outputs": [
    {
     "data": {
      "text/plain": [
       "view           2664312\n",
       "addtocart        69332\n",
       "transaction      22457\n",
       "Name: event, dtype: int64"
      ]
     },
     "execution_count": 8,
     "metadata": {},
     "output_type": "execute_result"
    }
   ],
   "source": [
    "events['event'].value_counts()"
   ]
  },
  {
   "cell_type": "code",
   "execution_count": 9,
   "metadata": {},
   "outputs": [
    {
     "name": "stdout",
     "output_type": "stream",
     "text": [
      "There were 2733644 events that did not result in a transaction.\n"
     ]
    }
   ],
   "source": [
    "## Calculating amount of transactions\n",
    "non_transaction_events = events['event'].size - events['event'].value_counts()['transaction']\n",
    "print(\"There were \" + str(non_transaction_events) + \" events that did not result in a transaction.\")"
   ]
  },
  {
   "cell_type": "markdown",
   "metadata": {},
   "source": [
    "Null transaction ID's occur when an event is a view or addedtocart."
   ]
  },
  {
   "cell_type": "code",
   "execution_count": 10,
   "metadata": {},
   "outputs": [
    {
     "name": "stdout",
     "output_type": "stream",
     "text": [
      "Only 0.82% of events resulted in a purchase\n"
     ]
    }
   ],
   "source": [
    "## Calculating percentage of events that resulted in a transaction\n",
    "percent_purchased = len(events[events['event'] == 'transaction']) / len(events[events['event'] != 'transaction']) * 100\n",
    "print(\"Only \" + str(\"{:.2f}\".format(percent_purchased)) + \"% of events resulted in a purchase\")"
   ]
  },
  {
   "cell_type": "code",
   "execution_count": 11,
   "metadata": {},
   "outputs": [
    {
     "data": {
      "text/html": [
       "<div>\n",
       "<style scoped>\n",
       "    .dataframe tbody tr th:only-of-type {\n",
       "        vertical-align: middle;\n",
       "    }\n",
       "\n",
       "    .dataframe tbody tr th {\n",
       "        vertical-align: top;\n",
       "    }\n",
       "\n",
       "    .dataframe thead th {\n",
       "        text-align: right;\n",
       "    }\n",
       "</style>\n",
       "<table border=\"1\" class=\"dataframe\">\n",
       "  <thead>\n",
       "    <tr style=\"text-align: right;\">\n",
       "      <th></th>\n",
       "      <th>timestamp</th>\n",
       "      <th>itemid</th>\n",
       "      <th>property</th>\n",
       "      <th>value</th>\n",
       "    </tr>\n",
       "  </thead>\n",
       "  <tbody>\n",
       "    <tr>\n",
       "      <td>0</td>\n",
       "      <td>1435460400000</td>\n",
       "      <td>460429</td>\n",
       "      <td>categoryid</td>\n",
       "      <td>1338</td>\n",
       "    </tr>\n",
       "    <tr>\n",
       "      <td>1</td>\n",
       "      <td>1441508400000</td>\n",
       "      <td>206783</td>\n",
       "      <td>888</td>\n",
       "      <td>1116713 960601 n277.200</td>\n",
       "    </tr>\n",
       "    <tr>\n",
       "      <td>2</td>\n",
       "      <td>1439089200000</td>\n",
       "      <td>395014</td>\n",
       "      <td>400</td>\n",
       "      <td>n552.000 639502 n720.000 424566</td>\n",
       "    </tr>\n",
       "    <tr>\n",
       "      <td>3</td>\n",
       "      <td>1431226800000</td>\n",
       "      <td>59481</td>\n",
       "      <td>790</td>\n",
       "      <td>n15360.000</td>\n",
       "    </tr>\n",
       "    <tr>\n",
       "      <td>4</td>\n",
       "      <td>1431831600000</td>\n",
       "      <td>156781</td>\n",
       "      <td>917</td>\n",
       "      <td>828513</td>\n",
       "    </tr>\n",
       "  </tbody>\n",
       "</table>\n",
       "</div>"
      ],
      "text/plain": [
       "       timestamp  itemid    property                            value\n",
       "0  1435460400000  460429  categoryid                             1338\n",
       "1  1441508400000  206783         888          1116713 960601 n277.200\n",
       "2  1439089200000  395014         400  n552.000 639502 n720.000 424566\n",
       "3  1431226800000   59481         790                       n15360.000\n",
       "4  1431831600000  156781         917                           828513"
      ]
     },
     "execution_count": 11,
     "metadata": {},
     "output_type": "execute_result"
    }
   ],
   "source": [
    "items_properties.head()"
   ]
  },
  {
   "cell_type": "markdown",
   "metadata": {},
   "source": [
    "The category tree dataframe does not have an itemid for us to reference, so we will get the categoryid's from the items_properties dataframe. When the property is categoryid, the value will be the items categoryid. "
   ]
  },
  {
   "cell_type": "code",
   "execution_count": 12,
   "metadata": {},
   "outputs": [
    {
     "data": {
      "text/html": [
       "<div>\n",
       "<style scoped>\n",
       "    .dataframe tbody tr th:only-of-type {\n",
       "        vertical-align: middle;\n",
       "    }\n",
       "\n",
       "    .dataframe tbody tr th {\n",
       "        vertical-align: top;\n",
       "    }\n",
       "\n",
       "    .dataframe thead th {\n",
       "        text-align: right;\n",
       "    }\n",
       "</style>\n",
       "<table border=\"1\" class=\"dataframe\">\n",
       "  <thead>\n",
       "    <tr style=\"text-align: right;\">\n",
       "      <th></th>\n",
       "      <th>categoryid</th>\n",
       "    </tr>\n",
       "    <tr>\n",
       "      <th>itemid</th>\n",
       "      <th></th>\n",
       "    </tr>\n",
       "  </thead>\n",
       "  <tbody>\n",
       "    <tr>\n",
       "      <td>460429</td>\n",
       "      <td>1338</td>\n",
       "    </tr>\n",
       "    <tr>\n",
       "      <td>281245</td>\n",
       "      <td>1277</td>\n",
       "    </tr>\n",
       "    <tr>\n",
       "      <td>35575</td>\n",
       "      <td>1059</td>\n",
       "    </tr>\n",
       "    <tr>\n",
       "      <td>8313</td>\n",
       "      <td>1147</td>\n",
       "    </tr>\n",
       "    <tr>\n",
       "      <td>55102</td>\n",
       "      <td>47</td>\n",
       "    </tr>\n",
       "  </tbody>\n",
       "</table>\n",
       "</div>"
      ],
      "text/plain": [
       "       categoryid\n",
       "itemid           \n",
       "460429       1338\n",
       "281245       1277\n",
       "35575        1059\n",
       "8313         1147\n",
       "55102          47"
      ]
     },
     "execution_count": 12,
     "metadata": {},
     "output_type": "execute_result"
    }
   ],
   "source": [
    "## Creating a dataframe for category ids\n",
    "category_ids = items_properties[items_properties['property'] == 'categoryid']\n",
    "category_ids = category_ids.rename(columns={\"value\": \"categoryid\"})\n",
    "category_ids = category_ids.drop(['timestamp', 'property'], axis = 1)\n",
    "category_ids = category_ids.set_index('itemid')\n",
    "category_ids.head()"
   ]
  },
  {
   "cell_type": "code",
   "execution_count": 13,
   "metadata": {},
   "outputs": [],
   "source": [
    "## Converting time stamp columns from UNIX format and sorting values by the timestamp\n",
    "items_times = []\n",
    "for i in items_properties['timestamp']:\n",
    "    items_times.append(datetime.datetime.fromtimestamp(i//1000.0)) \n",
    "items_properties['timestamp'] = items_times"
   ]
  },
  {
   "cell_type": "markdown",
   "metadata": {},
   "source": [
    "## Splitting Events Dataframe for events that resulted in transaction and did not result in a transaction"
   ]
  },
  {
   "cell_type": "markdown",
   "metadata": {},
   "source": [
    "### Resulted in a transaction\n"
   ]
  },
  {
   "cell_type": "code",
   "execution_count": 14,
   "metadata": {},
   "outputs": [
    {
     "name": "stdout",
     "output_type": "stream",
     "text": [
      "11719 customers made 22457 purchases\n"
     ]
    }
   ],
   "source": [
    "## Customers that made a transaction\n",
    "customer_purchased = (events['visitorid'][events['event'] == 'transaction'].unique())\n",
    "\n",
    "print(str(len(customer_purchased)) + (\" customers made \") + str((events['event'] == 'transaction').sum()) + \" purchases\")"
   ]
  },
  {
   "cell_type": "code",
   "execution_count": 15,
   "metadata": {},
   "outputs": [
    {
     "data": {
      "text/html": [
       "<div>\n",
       "<style scoped>\n",
       "    .dataframe tbody tr th:only-of-type {\n",
       "        vertical-align: middle;\n",
       "    }\n",
       "\n",
       "    .dataframe tbody tr th {\n",
       "        vertical-align: top;\n",
       "    }\n",
       "\n",
       "    .dataframe thead th {\n",
       "        text-align: right;\n",
       "    }\n",
       "</style>\n",
       "<table border=\"1\" class=\"dataframe\">\n",
       "  <thead>\n",
       "    <tr style=\"text-align: right;\">\n",
       "      <th></th>\n",
       "      <th>timestamp</th>\n",
       "      <th>visitorid</th>\n",
       "      <th>event</th>\n",
       "      <th>itemid</th>\n",
       "      <th>transactionid</th>\n",
       "    </tr>\n",
       "  </thead>\n",
       "  <tbody>\n",
       "    <tr>\n",
       "      <td>1462684</td>\n",
       "      <td>2015-05-02 22:03:20</td>\n",
       "      <td>41386</td>\n",
       "      <td>view</td>\n",
       "      <td>340921</td>\n",
       "      <td>NaN</td>\n",
       "    </tr>\n",
       "    <tr>\n",
       "      <td>1462673</td>\n",
       "      <td>2015-05-02 22:09:28</td>\n",
       "      <td>345781</td>\n",
       "      <td>view</td>\n",
       "      <td>438400</td>\n",
       "      <td>NaN</td>\n",
       "    </tr>\n",
       "    <tr>\n",
       "      <td>1464340</td>\n",
       "      <td>2015-05-02 22:11:33</td>\n",
       "      <td>345781</td>\n",
       "      <td>addtocart</td>\n",
       "      <td>438400</td>\n",
       "      <td>NaN</td>\n",
       "    </tr>\n",
       "    <tr>\n",
       "      <td>1464573</td>\n",
       "      <td>2015-05-02 22:15:30</td>\n",
       "      <td>560305</td>\n",
       "      <td>view</td>\n",
       "      <td>43939</td>\n",
       "      <td>NaN</td>\n",
       "    </tr>\n",
       "    <tr>\n",
       "      <td>1464908</td>\n",
       "      <td>2015-05-02 22:23:57</td>\n",
       "      <td>266417</td>\n",
       "      <td>view</td>\n",
       "      <td>445106</td>\n",
       "      <td>NaN</td>\n",
       "    </tr>\n",
       "  </tbody>\n",
       "</table>\n",
       "</div>"
      ],
      "text/plain": [
       "                  timestamp  visitorid      event  itemid  transactionid\n",
       "1462684 2015-05-02 22:03:20      41386       view  340921            NaN\n",
       "1462673 2015-05-02 22:09:28     345781       view  438400            NaN\n",
       "1464340 2015-05-02 22:11:33     345781  addtocart  438400            NaN\n",
       "1464573 2015-05-02 22:15:30     560305       view   43939            NaN\n",
       "1464908 2015-05-02 22:23:57     266417       view  445106            NaN"
      ]
     },
     "execution_count": 15,
     "metadata": {},
     "output_type": "execute_result"
    }
   ],
   "source": [
    "## Creating a dataframe of the events for visitors that made a purchase\n",
    "transaction_df = events[events['visitorid'].isin(customer_purchased)]\n",
    "transaction_df.head()"
   ]
  },
  {
   "cell_type": "code",
   "execution_count": 16,
   "metadata": {},
   "outputs": [
    {
     "data": {
      "text/html": [
       "<div>\n",
       "<style scoped>\n",
       "    .dataframe tbody tr th:only-of-type {\n",
       "        vertical-align: middle;\n",
       "    }\n",
       "\n",
       "    .dataframe tbody tr th {\n",
       "        vertical-align: top;\n",
       "    }\n",
       "\n",
       "    .dataframe thead th {\n",
       "        text-align: right;\n",
       "    }\n",
       "</style>\n",
       "<table border=\"1\" class=\"dataframe\">\n",
       "  <thead>\n",
       "    <tr style=\"text-align: right;\">\n",
       "      <th></th>\n",
       "      <th>timestamp</th>\n",
       "      <th>visitorid</th>\n",
       "      <th>event</th>\n",
       "      <th>itemid</th>\n",
       "      <th>transactionid</th>\n",
       "    </tr>\n",
       "  </thead>\n",
       "  <tbody>\n",
       "    <tr>\n",
       "      <td>2409535</td>\n",
       "      <td>2015-07-15 15:04:29</td>\n",
       "      <td>1085279</td>\n",
       "      <td>view</td>\n",
       "      <td>348495</td>\n",
       "      <td>NaN</td>\n",
       "    </tr>\n",
       "    <tr>\n",
       "      <td>2403414</td>\n",
       "      <td>2015-07-15 16:22:48</td>\n",
       "      <td>1085279</td>\n",
       "      <td>view</td>\n",
       "      <td>348495</td>\n",
       "      <td>NaN</td>\n",
       "    </tr>\n",
       "    <tr>\n",
       "      <td>2395676</td>\n",
       "      <td>2015-07-15 19:08:30</td>\n",
       "      <td>1085279</td>\n",
       "      <td>view</td>\n",
       "      <td>348495</td>\n",
       "      <td>NaN</td>\n",
       "    </tr>\n",
       "    <tr>\n",
       "      <td>2374182</td>\n",
       "      <td>2015-07-16 15:40:24</td>\n",
       "      <td>1085279</td>\n",
       "      <td>transaction</td>\n",
       "      <td>348495</td>\n",
       "      <td>3509.0</td>\n",
       "    </tr>\n",
       "  </tbody>\n",
       "</table>\n",
       "</div>"
      ],
      "text/plain": [
       "                  timestamp  visitorid        event  itemid  transactionid\n",
       "2409535 2015-07-15 15:04:29    1085279         view  348495            NaN\n",
       "2403414 2015-07-15 16:22:48    1085279         view  348495            NaN\n",
       "2395676 2015-07-15 19:08:30    1085279         view  348495            NaN\n",
       "2374182 2015-07-16 15:40:24    1085279  transaction  348495         3509.0"
      ]
     },
     "execution_count": 16,
     "metadata": {},
     "output_type": "execute_result"
    }
   ],
   "source": [
    "## Viewing a customer that purchased \n",
    "events[events['visitorid'] == random.choice(customer_purchased)]"
   ]
  },
  {
   "cell_type": "markdown",
   "metadata": {},
   "source": [
    "### Did not result in transaction "
   ]
  },
  {
   "cell_type": "code",
   "execution_count": 17,
   "metadata": {},
   "outputs": [
    {
     "name": "stdout",
     "output_type": "stream",
     "text": [
      "1395861 customers did not make a purchase during 2733644 visits\n"
     ]
    }
   ],
   "source": [
    "## Customers that did not make a transaction\n",
    "customer_not_purchased = [customer for customer in events['visitorid'].unique() if customer not in customer_purchased] ## Use not in to not double count customers that viewed and made transaction \n",
    "\n",
    "print(str(len(customer_not_purchased)) + (\" customers did not make a purchase during \") + str((events['event'] != 'transaction').sum()) + \" visits\")"
   ]
  },
  {
   "cell_type": "code",
   "execution_count": 18,
   "metadata": {},
   "outputs": [
    {
     "data": {
      "text/html": [
       "<div>\n",
       "<style scoped>\n",
       "    .dataframe tbody tr th:only-of-type {\n",
       "        vertical-align: middle;\n",
       "    }\n",
       "\n",
       "    .dataframe tbody tr th {\n",
       "        vertical-align: top;\n",
       "    }\n",
       "\n",
       "    .dataframe thead th {\n",
       "        text-align: right;\n",
       "    }\n",
       "</style>\n",
       "<table border=\"1\" class=\"dataframe\">\n",
       "  <thead>\n",
       "    <tr style=\"text-align: right;\">\n",
       "      <th></th>\n",
       "      <th>timestamp</th>\n",
       "      <th>visitorid</th>\n",
       "      <th>event</th>\n",
       "      <th>itemid</th>\n",
       "      <th>transactionid</th>\n",
       "    </tr>\n",
       "  </thead>\n",
       "  <tbody>\n",
       "    <tr>\n",
       "      <td>1462974</td>\n",
       "      <td>2015-05-02 22:00:04</td>\n",
       "      <td>693516</td>\n",
       "      <td>addtocart</td>\n",
       "      <td>297662</td>\n",
       "      <td>NaN</td>\n",
       "    </tr>\n",
       "    <tr>\n",
       "      <td>1464806</td>\n",
       "      <td>2015-05-02 22:00:11</td>\n",
       "      <td>829044</td>\n",
       "      <td>view</td>\n",
       "      <td>60987</td>\n",
       "      <td>NaN</td>\n",
       "    </tr>\n",
       "    <tr>\n",
       "      <td>1463000</td>\n",
       "      <td>2015-05-02 22:00:13</td>\n",
       "      <td>652699</td>\n",
       "      <td>view</td>\n",
       "      <td>252860</td>\n",
       "      <td>NaN</td>\n",
       "    </tr>\n",
       "    <tr>\n",
       "      <td>1465287</td>\n",
       "      <td>2015-05-02 22:00:24</td>\n",
       "      <td>1125936</td>\n",
       "      <td>view</td>\n",
       "      <td>33661</td>\n",
       "      <td>NaN</td>\n",
       "    </tr>\n",
       "    <tr>\n",
       "      <td>1462955</td>\n",
       "      <td>2015-05-02 22:00:26</td>\n",
       "      <td>693516</td>\n",
       "      <td>view</td>\n",
       "      <td>297662</td>\n",
       "      <td>NaN</td>\n",
       "    </tr>\n",
       "  </tbody>\n",
       "</table>\n",
       "</div>"
      ],
      "text/plain": [
       "                  timestamp  visitorid      event  itemid  transactionid\n",
       "1462974 2015-05-02 22:00:04     693516  addtocart  297662            NaN\n",
       "1464806 2015-05-02 22:00:11     829044       view   60987            NaN\n",
       "1463000 2015-05-02 22:00:13     652699       view  252860            NaN\n",
       "1465287 2015-05-02 22:00:24    1125936       view   33661            NaN\n",
       "1462955 2015-05-02 22:00:26     693516       view  297662            NaN"
      ]
     },
     "execution_count": 18,
     "metadata": {},
     "output_type": "execute_result"
    }
   ],
   "source": [
    "## Creating a dataframe of events for visitors that did not make a transaction\n",
    "no_transaction_df = events[events['visitorid'].isin(customer_not_purchased)]\n",
    "no_transaction_df.head()"
   ]
  },
  {
   "cell_type": "code",
   "execution_count": 19,
   "metadata": {},
   "outputs": [
    {
     "data": {
      "text/html": [
       "<div>\n",
       "<style scoped>\n",
       "    .dataframe tbody tr th:only-of-type {\n",
       "        vertical-align: middle;\n",
       "    }\n",
       "\n",
       "    .dataframe tbody tr th {\n",
       "        vertical-align: top;\n",
       "    }\n",
       "\n",
       "    .dataframe thead th {\n",
       "        text-align: right;\n",
       "    }\n",
       "</style>\n",
       "<table border=\"1\" class=\"dataframe\">\n",
       "  <thead>\n",
       "    <tr style=\"text-align: right;\">\n",
       "      <th></th>\n",
       "      <th>timestamp</th>\n",
       "      <th>visitorid</th>\n",
       "      <th>event</th>\n",
       "      <th>itemid</th>\n",
       "      <th>transactionid</th>\n",
       "    </tr>\n",
       "  </thead>\n",
       "  <tbody>\n",
       "    <tr>\n",
       "      <td>846812</td>\n",
       "      <td>2015-08-14 12:05:24</td>\n",
       "      <td>692037</td>\n",
       "      <td>view</td>\n",
       "      <td>53987</td>\n",
       "      <td>NaN</td>\n",
       "    </tr>\n",
       "  </tbody>\n",
       "</table>\n",
       "</div>"
      ],
      "text/plain": [
       "                 timestamp  visitorid event  itemid  transactionid\n",
       "846812 2015-08-14 12:05:24     692037  view   53987            NaN"
      ]
     },
     "execution_count": 19,
     "metadata": {},
     "output_type": "execute_result"
    }
   ],
   "source": [
    "## Viewing a customer that did not make a purchase \n",
    "events[events['visitorid'] == random.choice(customer_not_purchased)]"
   ]
  },
  {
   "cell_type": "markdown",
   "metadata": {},
   "source": [
    "## Finding products that were bought together"
   ]
  },
  {
   "cell_type": "code",
   "execution_count": 20,
   "metadata": {},
   "outputs": [
    {
     "data": {
      "text/html": [
       "<div>\n",
       "<style scoped>\n",
       "    .dataframe tbody tr th:only-of-type {\n",
       "        vertical-align: middle;\n",
       "    }\n",
       "\n",
       "    .dataframe tbody tr th {\n",
       "        vertical-align: top;\n",
       "    }\n",
       "\n",
       "    .dataframe thead th {\n",
       "        text-align: right;\n",
       "    }\n",
       "</style>\n",
       "<table border=\"1\" class=\"dataframe\">\n",
       "  <thead>\n",
       "    <tr style=\"text-align: right;\">\n",
       "      <th></th>\n",
       "      <th>timestamp</th>\n",
       "      <th>visitorid</th>\n",
       "      <th>event</th>\n",
       "      <th>itemid</th>\n",
       "      <th>transactionid</th>\n",
       "    </tr>\n",
       "  </thead>\n",
       "  <tbody>\n",
       "    <tr>\n",
       "      <td>1465072</td>\n",
       "      <td>2015-05-02 22:27:21</td>\n",
       "      <td>869008</td>\n",
       "      <td>transaction</td>\n",
       "      <td>40685</td>\n",
       "      <td>9765.0</td>\n",
       "    </tr>\n",
       "    <tr>\n",
       "      <td>1463096</td>\n",
       "      <td>2015-05-02 22:35:01</td>\n",
       "      <td>345781</td>\n",
       "      <td>transaction</td>\n",
       "      <td>438400</td>\n",
       "      <td>1016.0</td>\n",
       "    </tr>\n",
       "    <tr>\n",
       "      <td>1464289</td>\n",
       "      <td>2015-05-02 23:01:47</td>\n",
       "      <td>586756</td>\n",
       "      <td>transaction</td>\n",
       "      <td>440917</td>\n",
       "      <td>10942.0</td>\n",
       "    </tr>\n",
       "    <tr>\n",
       "      <td>1463462</td>\n",
       "      <td>2015-05-02 23:07:38</td>\n",
       "      <td>435495</td>\n",
       "      <td>transaction</td>\n",
       "      <td>175893</td>\n",
       "      <td>6173.0</td>\n",
       "    </tr>\n",
       "    <tr>\n",
       "      <td>1463605</td>\n",
       "      <td>2015-05-02 23:31:14</td>\n",
       "      <td>266417</td>\n",
       "      <td>transaction</td>\n",
       "      <td>445106</td>\n",
       "      <td>12546.0</td>\n",
       "    </tr>\n",
       "  </tbody>\n",
       "</table>\n",
       "</div>"
      ],
      "text/plain": [
       "                  timestamp  visitorid        event  itemid  transactionid\n",
       "1465072 2015-05-02 22:27:21     869008  transaction   40685         9765.0\n",
       "1463096 2015-05-02 22:35:01     345781  transaction  438400         1016.0\n",
       "1464289 2015-05-02 23:01:47     586756  transaction  440917        10942.0\n",
       "1463462 2015-05-02 23:07:38     435495  transaction  175893         6173.0\n",
       "1463605 2015-05-02 23:31:14     266417  transaction  445106        12546.0"
      ]
     },
     "execution_count": 20,
     "metadata": {},
     "output_type": "execute_result"
    }
   ],
   "source": [
    "## Creating a dataframe of transactions\n",
    "transaction_occured = transaction_df[transaction_df['event'] == 'transaction']\n",
    "transaction_occured.head()"
   ]
  },
  {
   "cell_type": "code",
   "execution_count": 21,
   "metadata": {},
   "outputs": [],
   "source": [
    "## Creating a list of lists of products that customers bought\n",
    "purchased_together = []\n",
    "\n",
    "for customer in customer_purchased:\n",
    "    purchased_together.append(list(transaction_occured.loc[transaction_occured['visitorid'] == customer, 'itemid']))"
   ]
  },
  {
   "cell_type": "code",
   "execution_count": 22,
   "metadata": {},
   "outputs": [],
   "source": [
    "## Creating a function to find other items that customers purchased with a product. \n",
    "def productRecommender(itemid, purchased_together):\n",
    "    recommended_products = []\n",
    "    for item_list in purchased_together:\n",
    "        if itemid in item_list:\n",
    "            for item in item_list:\n",
    "                if item != itemid:\n",
    "                    recommended_products.append(item)\n",
    "    return recommended_products"
   ]
  },
  {
   "cell_type": "code",
   "execution_count": 23,
   "metadata": {},
   "outputs": [
    {
     "name": "stdout",
     "output_type": "stream",
     "text": [
      "Products that were bought together with 179400: [301359, 238951, 117762]\n"
     ]
    }
   ],
   "source": [
    "## Products that were bought for product 179400\n",
    "print(\"Products that were bought together with 179400: \" + str(productRecommender(445106, purchased_together)))"
   ]
  },
  {
   "cell_type": "markdown",
   "metadata": {},
   "source": [
    "## Creating a function to build a dataframe describing customer actions"
   ]
  },
  {
   "cell_type": "code",
   "execution_count": 24,
   "metadata": {},
   "outputs": [],
   "source": [
    "def creatingDataframe(customer_list):\n",
    "    ## Building temperary df of customers events from customer list\n",
    "    temp_df = events[events['visitorid'].isin(customer_list)]\n",
    "    \n",
    "    customer_df = pd.DataFrame()\n",
    "    customer_df['visitorid'] = customer_list\n",
    "    customer_df = customer_df.set_index('visitorid')\n",
    "    \n",
    "    #Calculating number of products the customer viewed\n",
    "    num_products = temp_df.pivot_table(values = 'itemid', index = 'visitorid', aggfunc = lambda x: len(x.unique()))\n",
    "    \n",
    "    ## Calculating frequency of total customers views\n",
    "    views = temp_df[temp_df['event'] == 'view'].groupby('visitorid').count()['event']\n",
    "    \n",
    "    ## Calculating frequency of a customers views\n",
    "    added_to_cart = temp_df[temp_df['event'] == 'addtocart'].groupby('visitorid').count()['event']\n",
    "    \n",
    "    ## Calculating frequency of a customers transactions\n",
    "    transaction_frequency = temp_df[temp_df['event'] == 'transaction'].groupby('visitorid').count()['event']\n",
    "    \n",
    "    \n",
    "    \n",
    "    \n",
    "    customer_df = pd.concat([customer_df,\n",
    "                             num_products,\n",
    "                             views.rename('view_frequency'),\n",
    "                             added_to_cart.rename('added_to_cart_frequency'),\n",
    "                             transaction_frequency.rename('transaction_frequency')], axis=1, ignore_index = False)\n",
    "    customer_df = customer_df.rename(columns = {'itemid' : 'num_products'})\n",
    "    customer_df = customer_df.fillna(0)\n",
    "    \n",
    "    ## Returns a one if a customer made a purchase and a zero if no purchase was made\n",
    "    customer_df['purchased'] = customer_df['transaction_frequency'].apply(lambda row: 1 if row > 0 else 0)\n",
    "    return customer_df\n",
    "    "
   ]
  },
  {
   "cell_type": "code",
   "execution_count": 25,
   "metadata": {},
   "outputs": [
    {
     "data": {
      "text/html": [
       "<div>\n",
       "<style scoped>\n",
       "    .dataframe tbody tr th:only-of-type {\n",
       "        vertical-align: middle;\n",
       "    }\n",
       "\n",
       "    .dataframe tbody tr th {\n",
       "        vertical-align: top;\n",
       "    }\n",
       "\n",
       "    .dataframe thead th {\n",
       "        text-align: right;\n",
       "    }\n",
       "</style>\n",
       "<table border=\"1\" class=\"dataframe\">\n",
       "  <thead>\n",
       "    <tr style=\"text-align: right;\">\n",
       "      <th></th>\n",
       "      <th>num_products</th>\n",
       "      <th>view_frequency</th>\n",
       "      <th>added_to_cart_frequency</th>\n",
       "      <th>transaction_frequency</th>\n",
       "      <th>purchased</th>\n",
       "    </tr>\n",
       "    <tr>\n",
       "      <th>visitorid</th>\n",
       "      <th></th>\n",
       "      <th></th>\n",
       "      <th></th>\n",
       "      <th></th>\n",
       "      <th></th>\n",
       "    </tr>\n",
       "  </thead>\n",
       "  <tbody>\n",
       "    <tr>\n",
       "      <td>172</td>\n",
       "      <td>22</td>\n",
       "      <td>33.0</td>\n",
       "      <td>3.0</td>\n",
       "      <td>2</td>\n",
       "      <td>1</td>\n",
       "    </tr>\n",
       "    <tr>\n",
       "      <td>186</td>\n",
       "      <td>1</td>\n",
       "      <td>2.0</td>\n",
       "      <td>1.0</td>\n",
       "      <td>1</td>\n",
       "      <td>1</td>\n",
       "    </tr>\n",
       "    <tr>\n",
       "      <td>264</td>\n",
       "      <td>2</td>\n",
       "      <td>3.0</td>\n",
       "      <td>2.0</td>\n",
       "      <td>2</td>\n",
       "      <td>1</td>\n",
       "    </tr>\n",
       "    <tr>\n",
       "      <td>419</td>\n",
       "      <td>3</td>\n",
       "      <td>4.0</td>\n",
       "      <td>1.0</td>\n",
       "      <td>1</td>\n",
       "      <td>1</td>\n",
       "    </tr>\n",
       "    <tr>\n",
       "      <td>539</td>\n",
       "      <td>1</td>\n",
       "      <td>4.0</td>\n",
       "      <td>2.0</td>\n",
       "      <td>1</td>\n",
       "      <td>1</td>\n",
       "    </tr>\n",
       "  </tbody>\n",
       "</table>\n",
       "</div>"
      ],
      "text/plain": [
       "           num_products  view_frequency  added_to_cart_frequency  \\\n",
       "visitorid                                                          \n",
       "172                  22            33.0                      3.0   \n",
       "186                   1             2.0                      1.0   \n",
       "264                   2             3.0                      2.0   \n",
       "419                   3             4.0                      1.0   \n",
       "539                   1             4.0                      2.0   \n",
       "\n",
       "           transaction_frequency  purchased  \n",
       "visitorid                                    \n",
       "172                            2          1  \n",
       "186                            1          1  \n",
       "264                            2          1  \n",
       "419                            1          1  \n",
       "539                            1          1  "
      ]
     },
     "execution_count": 25,
     "metadata": {},
     "output_type": "execute_result"
    }
   ],
   "source": [
    "## Customer actions of a customer that made a purchase\n",
    "purchasing_visitors = creatingDataframe(customer_purchased)\n",
    "purchasing_visitors.head()"
   ]
  },
  {
   "cell_type": "code",
   "execution_count": 26,
   "metadata": {},
   "outputs": [
    {
     "data": {
      "text/html": [
       "<div>\n",
       "<style scoped>\n",
       "    .dataframe tbody tr th:only-of-type {\n",
       "        vertical-align: middle;\n",
       "    }\n",
       "\n",
       "    .dataframe tbody tr th {\n",
       "        vertical-align: top;\n",
       "    }\n",
       "\n",
       "    .dataframe thead th {\n",
       "        text-align: right;\n",
       "    }\n",
       "</style>\n",
       "<table border=\"1\" class=\"dataframe\">\n",
       "  <thead>\n",
       "    <tr style=\"text-align: right;\">\n",
       "      <th></th>\n",
       "      <th>num_products</th>\n",
       "      <th>view_frequency</th>\n",
       "      <th>added_to_cart_frequency</th>\n",
       "      <th>transaction_frequency</th>\n",
       "      <th>purchased</th>\n",
       "    </tr>\n",
       "    <tr>\n",
       "      <th>visitorid</th>\n",
       "      <th></th>\n",
       "      <th></th>\n",
       "      <th></th>\n",
       "      <th></th>\n",
       "      <th></th>\n",
       "    </tr>\n",
       "  </thead>\n",
       "  <tbody>\n",
       "    <tr>\n",
       "      <td>0</td>\n",
       "      <td>3</td>\n",
       "      <td>3.0</td>\n",
       "      <td>0.0</td>\n",
       "      <td>0.0</td>\n",
       "      <td>0</td>\n",
       "    </tr>\n",
       "    <tr>\n",
       "      <td>1</td>\n",
       "      <td>1</td>\n",
       "      <td>1.0</td>\n",
       "      <td>0.0</td>\n",
       "      <td>0.0</td>\n",
       "      <td>0</td>\n",
       "    </tr>\n",
       "    <tr>\n",
       "      <td>2</td>\n",
       "      <td>4</td>\n",
       "      <td>8.0</td>\n",
       "      <td>0.0</td>\n",
       "      <td>0.0</td>\n",
       "      <td>0</td>\n",
       "    </tr>\n",
       "    <tr>\n",
       "      <td>3</td>\n",
       "      <td>1</td>\n",
       "      <td>1.0</td>\n",
       "      <td>0.0</td>\n",
       "      <td>0.0</td>\n",
       "      <td>0</td>\n",
       "    </tr>\n",
       "    <tr>\n",
       "      <td>4</td>\n",
       "      <td>1</td>\n",
       "      <td>1.0</td>\n",
       "      <td>0.0</td>\n",
       "      <td>0.0</td>\n",
       "      <td>0</td>\n",
       "    </tr>\n",
       "  </tbody>\n",
       "</table>\n",
       "</div>"
      ],
      "text/plain": [
       "           num_products  view_frequency  added_to_cart_frequency  \\\n",
       "visitorid                                                          \n",
       "0                     3             3.0                      0.0   \n",
       "1                     1             1.0                      0.0   \n",
       "2                     4             8.0                      0.0   \n",
       "3                     1             1.0                      0.0   \n",
       "4                     1             1.0                      0.0   \n",
       "\n",
       "           transaction_frequency  purchased  \n",
       "visitorid                                    \n",
       "0                            0.0          0  \n",
       "1                            0.0          0  \n",
       "2                            0.0          0  \n",
       "3                            0.0          0  \n",
       "4                            0.0          0  "
      ]
     },
     "execution_count": 26,
     "metadata": {},
     "output_type": "execute_result"
    }
   ],
   "source": [
    "## Customer actions of a customer that did not make a purchase\n",
    "non_purchasing_visitors = creatingDataframe(customer_not_purchased)\n",
    "non_purchasing_visitors.head()"
   ]
  },
  {
   "cell_type": "code",
   "execution_count": 27,
   "metadata": {},
   "outputs": [],
   "source": [
    "## Randomizing and slicing the non_purchasing_visitors dataframe and combining it with the purchasing_visitors dataframe\n",
    "non_purchasing_visitors = non_purchasing_visitors.sample(frac=1)[:28000]\n",
    "full_customer_df = pd.concat([purchasing_visitors, non_purchasing_visitors], ignore_index=True)\n",
    "full_customer_df = full_customer_df.sample(frac=1)"
   ]
  },
  {
   "cell_type": "markdown",
   "metadata": {},
   "source": [
    "## Predicting if a visitor will make a purchase"
   ]
  },
  {
   "cell_type": "code",
   "execution_count": 28,
   "metadata": {},
   "outputs": [
    {
     "data": {
      "text/plain": [
       "<seaborn.axisgrid.PairGrid at 0x2aa737b0808>"
      ]
     },
     "execution_count": 28,
     "metadata": {},
     "output_type": "execute_result"
    },
    {
     "data": {
      "image/png": "[encoded data removed]",
      "text/plain": [
       "<Figure size 720x720 with 20 Axes>"
      ]
     },
     "metadata": {
      "needs_background": "light"
     },
     "output_type": "display_data"
    }
   ],
   "source": [
    "sns.pairplot(full_customer_df.drop('purchased', axis ='columns'))"
   ]
  },
  {
   "cell_type": "code",
   "execution_count": 29,
   "metadata": {},
   "outputs": [
    {
     "data": {
      "text/html": [
       "<div>\n",
       "<style scoped>\n",
       "    .dataframe tbody tr th:only-of-type {\n",
       "        vertical-align: middle;\n",
       "    }\n",
       "\n",
       "    .dataframe tbody tr th {\n",
       "        vertical-align: top;\n",
       "    }\n",
       "\n",
       "    .dataframe thead th {\n",
       "        text-align: right;\n",
       "    }\n",
       "</style>\n",
       "<table border=\"1\" class=\"dataframe\">\n",
       "  <thead>\n",
       "    <tr style=\"text-align: right;\">\n",
       "      <th></th>\n",
       "      <th>num_products</th>\n",
       "      <th>view_frequency</th>\n",
       "      <th>added_to_cart_frequency</th>\n",
       "      <th>transaction_frequency</th>\n",
       "      <th>purchased</th>\n",
       "    </tr>\n",
       "  </thead>\n",
       "  <tbody>\n",
       "    <tr>\n",
       "      <td>num_products</td>\n",
       "      <td>1.000000</td>\n",
       "      <td>0.991236</td>\n",
       "      <td>0.859700</td>\n",
       "      <td>0.875136</td>\n",
       "      <td>0.098504</td>\n",
       "    </tr>\n",
       "    <tr>\n",
       "      <td>view_frequency</td>\n",
       "      <td>0.991236</td>\n",
       "      <td>1.000000</td>\n",
       "      <td>0.862737</td>\n",
       "      <td>0.870534</td>\n",
       "      <td>0.106135</td>\n",
       "    </tr>\n",
       "    <tr>\n",
       "      <td>added_to_cart_frequency</td>\n",
       "      <td>0.859700</td>\n",
       "      <td>0.862737</td>\n",
       "      <td>1.000000</td>\n",
       "      <td>0.954665</td>\n",
       "      <td>0.161899</td>\n",
       "    </tr>\n",
       "    <tr>\n",
       "      <td>transaction_frequency</td>\n",
       "      <td>0.875136</td>\n",
       "      <td>0.870534</td>\n",
       "      <td>0.954665</td>\n",
       "      <td>1.000000</td>\n",
       "      <td>0.178867</td>\n",
       "    </tr>\n",
       "    <tr>\n",
       "      <td>purchased</td>\n",
       "      <td>0.098504</td>\n",
       "      <td>0.106135</td>\n",
       "      <td>0.161899</td>\n",
       "      <td>0.178867</td>\n",
       "      <td>1.000000</td>\n",
       "    </tr>\n",
       "  </tbody>\n",
       "</table>\n",
       "</div>"
      ],
      "text/plain": [
       "                         num_products  view_frequency  \\\n",
       "num_products                 1.000000        0.991236   \n",
       "view_frequency               0.991236        1.000000   \n",
       "added_to_cart_frequency      0.859700        0.862737   \n",
       "transaction_frequency        0.875136        0.870534   \n",
       "purchased                    0.098504        0.106135   \n",
       "\n",
       "                         added_to_cart_frequency  transaction_frequency  \\\n",
       "num_products                            0.859700               0.875136   \n",
       "view_frequency                          0.862737               0.870534   \n",
       "added_to_cart_frequency                 1.000000               0.954665   \n",
       "transaction_frequency                   0.954665               1.000000   \n",
       "purchased                               0.161899               0.178867   \n",
       "\n",
       "                         purchased  \n",
       "num_products              0.098504  \n",
       "view_frequency            0.106135  \n",
       "added_to_cart_frequency   0.161899  \n",
       "transaction_frequency     0.178867  \n",
       "purchased                 1.000000  "
      ]
     },
     "execution_count": 29,
     "metadata": {},
     "output_type": "execute_result"
    }
   ],
   "source": [
    "full_customer_df.corr()"
   ]
  },
  {
   "cell_type": "markdown",
   "metadata": {},
   "source": [
    "We will only use the view_frequency in our prediction model. The other variables will be dropped because of multicollinearity. "
   ]
  },
  {
   "cell_type": "code",
   "execution_count": 30,
   "metadata": {},
   "outputs": [],
   "source": [
    "data = ['view_frequency']\n",
    "target = 'purchased'"
   ]
  },
  {
   "cell_type": "code",
   "execution_count": 31,
   "metadata": {},
   "outputs": [],
   "source": [
    "logreg = LogisticRegression(solver='lbfgs')"
   ]
  },
  {
   "cell_type": "code",
   "execution_count": 32,
   "metadata": {},
   "outputs": [],
   "source": [
    "## Splitting the data set 50/50 into a train and test dataset\n",
    "train = full_customer_df[:27803]\n",
    "test = full_customer_df[27803:]"
   ]
  },
  {
   "cell_type": "code",
   "execution_count": 33,
   "metadata": {},
   "outputs": [
    {
     "data": {
      "text/plain": [
       "LogisticRegression(C=1.0, class_weight=None, dual=False, fit_intercept=True,\n",
       "                   intercept_scaling=1, l1_ratio=None, max_iter=100,\n",
       "                   multi_class='warn', n_jobs=None, penalty='l2',\n",
       "                   random_state=None, solver='lbfgs', tol=0.0001, verbose=0,\n",
       "                   warm_start=False)"
      ]
     },
     "execution_count": 33,
     "metadata": {},
     "output_type": "execute_result"
    }
   ],
   "source": [
    "logreg.fit(train[data], train[target])"
   ]
  },
  {
   "cell_type": "code",
   "execution_count": 34,
   "metadata": {},
   "outputs": [
    {
     "name": "stdout",
     "output_type": "stream",
     "text": [
      "Prediction accuracy: 79.26%\n"
     ]
    }
   ],
   "source": [
    "predictions = logreg.predict(test[data])\n",
    "accuracy = metrics.accuracy_score(test[target], predictions) * 100\n",
    "print(\"Prediction accuracy: \" + str(\"{:.2f}\".format(accuracy)) + \"%\")"
   ]
  },
  {
   "cell_type": "markdown",
   "metadata": {},
   "source": [
    "# Takeaways"
   ]
  },
  {
   "cell_type": "markdown",
   "metadata": {},
   "source": [
    "### We will be using the below image to aid us in making the proper decisions"
   ]
  },
  {
   "cell_type": "code",
   "execution_count": 35,
   "metadata": {},
   "outputs": [
    {
     "data": {
      "text/html": [
       "<img src=\"https://i0.wp.com/www.digitalnoobs.com/wp-content/uploads/2015/09/buyer-decision-process.gif?resize=500%2C750\"/>"
      ],
      "text/plain": [
       "<IPython.core.display.Image object>"
      ]
     },
     "execution_count": 35,
     "metadata": {},
     "output_type": "execute_result"
    }
   ],
   "source": [
    "from IPython.display import Image\n",
    "from IPython.core.display import HTML \n",
    "Image(url= \"https://i0.wp.com/www.digitalnoobs.com/wp-content/uploads/2015/09/buyer-decision-process.gif?resize=500%2C750\")"
   ]
  },
  {
   "cell_type": "markdown",
   "metadata": {},
   "source": [
    "The picture displays the 5 stages a buyer encounters in their buying decision process. The picutre is from: https://i0.wp.com/www.digitalnoobs.com/wp-content/uploads/2015/09/buyer-decision-process.gif?resize=500%2C750"
   ]
  },
  {
   "cell_type": "markdown",
   "metadata": {},
   "source": [
    "### Visitor logs on and begins searching"
   ]
  },
  {
   "cell_type": "markdown",
   "metadata": {},
   "source": [
    "When the visitor first logs on, we can recommend the most viewed products on the site from that week. "
   ]
  },
  {
   "cell_type": "code",
   "execution_count": 36,
   "metadata": {},
   "outputs": [
    {
     "name": "stdout",
     "output_type": "stream",
     "text": [
      "This weeks most viewed items: \n",
      "434782    419\n",
      "17114     384\n",
      "187946    250\n",
      "461686    171\n",
      "245085    153\n",
      "320130    132\n",
      "9877      108\n",
      "96924     102\n",
      "314579    102\n",
      "76060     101\n",
      "Name: itemid, dtype: int64\n",
      "\n",
      "We will begin by showing the following items: [434782, 17114, 187946, 461686, 245085, 320130, 9877, 96924, 314579, 76060]\n"
     ]
    }
   ],
   "source": [
    "from datetime import timedelta\n",
    "start_date = events['timestamp'][events.index[-1]]\n",
    "end_date = start_date + timedelta(days=-7)\n",
    "last_week = events[(events['timestamp'] >= end_date) & (events['timestamp'] <= start_date)]\n",
    "\n",
    "featured_items = (last_week[last_week['event'] == 'view']['itemid'].value_counts())\n",
    "print(\"This weeks most viewed items: \")\n",
    "print(featured_items[:10])\n",
    "\n",
    "print(\"\\nWe will begin by showing the following items: \" + str(list(featured_items.index)[:10]))"
   ]
  },
  {
   "cell_type": "markdown",
   "metadata": {},
   "source": [
    "### Visitor begins looking at itemid: 461686"
   ]
  },
  {
   "cell_type": "code",
   "execution_count": 37,
   "metadata": {},
   "outputs": [
    {
     "name": "stdout",
     "output_type": "stream",
     "text": [
      "\n",
      "We will show the following products that are commonly bought together with product 461686: [119736, 10572, 171878, 32581, 218794, 320130, 248455, 357529, 420960, 124081]\n"
     ]
    }
   ],
   "source": [
    "## Finding the most viewed related products\n",
    "recommended_items = productRecommender(461686, purchased_together)\n",
    "top_recommended = pd.Series(recommended_items).value_counts()\n",
    "print(\"\\nWe will show the following products that are commonly bought together with product 461686: \" + str(list(top_recommended.index)[:10]))"
   ]
  },
  {
   "cell_type": "markdown",
   "metadata": {},
   "source": [
    "### Visitor is on Stage 2 and begins looking at itemid: 10572"
   ]
  },
  {
   "cell_type": "code",
   "execution_count": 38,
   "metadata": {},
   "outputs": [
    {
     "name": "stdout",
     "output_type": "stream",
     "text": [
      "       categoryid\n",
      "itemid           \n",
      "10572        1037\n",
      "461686       1037\n"
     ]
    }
   ],
   "source": [
    "print(category_ids.loc[[10572, 461686]])"
   ]
  },
  {
   "cell_type": "markdown",
   "metadata": {},
   "source": [
    "We can see now that the visitor is looking at products within the same category, so the visitor is now moving to Stage 2. We will now recommend popular products from the category. "
   ]
  },
  {
   "cell_type": "code",
   "execution_count": 39,
   "metadata": {},
   "outputs": [
    {
     "name": "stdout",
     "output_type": "stream",
     "text": [
      "We will recommend the following products: [461686, 422376, 218794, 171878, 32581, 271872, 67423, 285154, 307322, 75392]\n"
     ]
    }
   ],
   "source": [
    "## Finding the most viewed products from categoryid 1037\n",
    "currently_viewing = [10572]\n",
    "merged_events = events.merge(right = category_ids, how = 'left', on ='itemid')\n",
    "category_values = merged_events[merged_events['categoryid'] == '1037']\n",
    "top_category_items = category_values[category_values['event'] == 'view']['itemid'].value_counts().index\n",
    "top_items = [item for item in top_category_items if item not in currently_viewing][:10]\n",
    "print(\"We will recommend the following products: \" + str(top_items))"
   ]
  },
  {
   "cell_type": "markdown",
   "metadata": {},
   "source": [
    "### Visitor continues viewing products popular from the category and is moving on to Stage 3"
   ]
  },
  {
   "cell_type": "markdown",
   "metadata": {},
   "source": [
    "If we had the available data, we would now recommend products within the same category that are the most similar in price. "
   ]
  },
  {
   "cell_type": "markdown",
   "metadata": {},
   "source": [
    "### At this point, the customer would have viewed atleast 4 items. We will look at how are strategy performed compared to our test dataset. "
   ]
  },
  {
   "cell_type": "code",
   "execution_count": 40,
   "metadata": {},
   "outputs": [
    {
     "data": {
      "text/plain": [
       "count    11916.000000\n",
       "mean         6.057654\n",
       "std         57.773952\n",
       "min          0.000000\n",
       "25%          1.000000\n",
       "50%          1.000000\n",
       "75%          3.000000\n",
       "max       2368.000000\n",
       "Name: view_frequency, dtype: float64"
      ]
     },
     "execution_count": 40,
     "metadata": {},
     "output_type": "execute_result"
    }
   ],
   "source": [
    "test['view_frequency'].describe()"
   ]
  },
  {
   "cell_type": "markdown",
   "metadata": {},
   "source": [
    "We will look at the distribution of the view frequencies and see if the mean is a good variable to compare our perfomance too."
   ]
  },
  {
   "cell_type": "code",
   "execution_count": 41,
   "metadata": {},
   "outputs": [
    {
     "data": {
      "text/plain": [
       "<matplotlib.axes._subplots.AxesSubplot at 0x2aa73fafec8>"
      ]
     },
     "execution_count": 41,
     "metadata": {},
     "output_type": "execute_result"
    },
    {
     "data": {
      "image/png": "[encoded data removed]",
      "text/plain": [
       "<Figure size 432x288 with 1 Axes>"
      ]
     },
     "metadata": {
      "needs_background": "light"
     },
     "output_type": "display_data"
    }
   ],
   "source": [
    "sns.kdeplot(test['view_frequency'])"
   ]
  },
  {
   "cell_type": "markdown",
   "metadata": {},
   "source": [
    "The distribution is heavily skewed, so we will look at the median instead."
   ]
  },
  {
   "cell_type": "code",
   "execution_count": 42,
   "metadata": {},
   "outputs": [
    {
     "name": "stdout",
     "output_type": "stream",
     "text": [
      "The median of the data set is: 1.0\n"
     ]
    }
   ],
   "source": [
    "print(\"The median of the data set is: \" + str((test['view_frequency']).median()))"
   ]
  },
  {
   "cell_type": "markdown",
   "metadata": {},
   "source": [
    "We can see above, that if our strategy performs as planned, it would result in getting more views from a visitor than 75% of visitors from the test dataframe, and we would have at least 3 more views than the median of the test dataframe. "
   ]
  },
  {
   "cell_type": "code",
   "execution_count": 43,
   "metadata": {},
   "outputs": [
    {
     "name": "stdout",
     "output_type": "stream",
     "text": [
      "From our test dataset, when a visitor had 4 views, the visitor made a transaction 56.05% of the time\n",
      "From our test dataset, when a visitor had 5 views, the visitor made a transaction 62.29% of the time\n",
      "From our test dataset, when a visitor had 6 views, the visitor made a transaction 68.58% of the time\n"
     ]
    }
   ],
   "source": [
    "## if the visitor has 4 views\n",
    "four_views = test[test['view_frequency'] == 4]['purchased'].value_counts().loc[1] / test[test['view_frequency'] == 4]['purchased'].size * 100\n",
    "print(\"From our test dataset, when a visitor had 4 views, the visitor made a transaction \" + str(\"{:.2f}\".format(four_views)) + \"% of the time\")\n",
    "\n",
    "## if the visitor has 5 views\n",
    "five_views = test[test['view_frequency'] == 5]['purchased'].value_counts().loc[1] / test[test['view_frequency'] == 5]['purchased'].size * 100\n",
    "print(\"From our test dataset, when a visitor had 5 views, the visitor made a transaction \" + str(\"{:.2f}\".format(five_views)) + \"% of the time\")\n",
    "\n",
    "## if the visitor has 6 views\n",
    "six_views = test[test['view_frequency'] == 6]['purchased'].value_counts().loc[1] / test[test['view_frequency'] == 6]['purchased'].size * 100\n",
    "print(\"From our test dataset, when a visitor had 6 views, the visitor made a transaction \" + str(\"{:.2f}\".format(six_views)) + \"% of the time\")"
   ]
  },
  {
   "cell_type": "markdown",
   "metadata": {},
   "source": [
    "## The strategy in action"
   ]
  },
  {
   "cell_type": "code",
   "execution_count": 44,
   "metadata": {},
   "outputs": [
    {
     "data": {
      "text/html": [
       "<div>\n",
       "<style scoped>\n",
       "    .dataframe tbody tr th:only-of-type {\n",
       "        vertical-align: middle;\n",
       "    }\n",
       "\n",
       "    .dataframe tbody tr th {\n",
       "        vertical-align: top;\n",
       "    }\n",
       "\n",
       "    .dataframe thead th {\n",
       "        text-align: right;\n",
       "    }\n",
       "</style>\n",
       "<table border=\"1\" class=\"dataframe\">\n",
       "  <thead>\n",
       "    <tr style=\"text-align: right;\">\n",
       "      <th></th>\n",
       "      <th>timestamp</th>\n",
       "      <th>visitorid</th>\n",
       "      <th>event</th>\n",
       "      <th>itemid</th>\n",
       "      <th>transactionid</th>\n",
       "      <th>categoryid</th>\n",
       "    </tr>\n",
       "  </thead>\n",
       "  <tbody>\n",
       "    <tr>\n",
       "      <td>0</td>\n",
       "      <td>2015-09-15 09:46:37</td>\n",
       "      <td>1217315</td>\n",
       "      <td>view</td>\n",
       "      <td>461686</td>\n",
       "      <td>NaN</td>\n",
       "      <td>1037</td>\n",
       "    </tr>\n",
       "    <tr>\n",
       "      <td>1</td>\n",
       "      <td>2015-09-15 09:47:10</td>\n",
       "      <td>1217315</td>\n",
       "      <td>view</td>\n",
       "      <td>10572</td>\n",
       "      <td>NaN</td>\n",
       "      <td>1037</td>\n",
       "    </tr>\n",
       "    <tr>\n",
       "      <td>2</td>\n",
       "      <td>2015-09-15 09:49:59</td>\n",
       "      <td>1217315</td>\n",
       "      <td>view</td>\n",
       "      <td>461686</td>\n",
       "      <td>NaN</td>\n",
       "      <td>1037</td>\n",
       "    </tr>\n",
       "    <tr>\n",
       "      <td>3</td>\n",
       "      <td>2015-09-15 09:50:25</td>\n",
       "      <td>1217315</td>\n",
       "      <td>view</td>\n",
       "      <td>10572</td>\n",
       "      <td>NaN</td>\n",
       "      <td>1037</td>\n",
       "    </tr>\n",
       "    <tr>\n",
       "      <td>4</td>\n",
       "      <td>2015-09-15 09:54:36</td>\n",
       "      <td>1217315</td>\n",
       "      <td>view</td>\n",
       "      <td>461686</td>\n",
       "      <td>NaN</td>\n",
       "      <td>1037</td>\n",
       "    </tr>\n",
       "    <tr>\n",
       "      <td>5</td>\n",
       "      <td>2015-09-15 09:56:08</td>\n",
       "      <td>1217315</td>\n",
       "      <td>addtocart</td>\n",
       "      <td>461686</td>\n",
       "      <td>NaN</td>\n",
       "      <td>1037</td>\n",
       "    </tr>\n",
       "    <tr>\n",
       "      <td>6</td>\n",
       "      <td>2015-09-15 09:57:21</td>\n",
       "      <td>1217315</td>\n",
       "      <td>view</td>\n",
       "      <td>32581</td>\n",
       "      <td>NaN</td>\n",
       "      <td>1037</td>\n",
       "    </tr>\n",
       "    <tr>\n",
       "      <td>7</td>\n",
       "      <td>2015-09-15 09:58:02</td>\n",
       "      <td>1217315</td>\n",
       "      <td>addtocart</td>\n",
       "      <td>32581</td>\n",
       "      <td>NaN</td>\n",
       "      <td>1037</td>\n",
       "    </tr>\n",
       "    <tr>\n",
       "      <td>8</td>\n",
       "      <td>2015-09-15 10:01:13</td>\n",
       "      <td>1217315</td>\n",
       "      <td>transaction</td>\n",
       "      <td>461686</td>\n",
       "      <td>7909.0</td>\n",
       "      <td>1037</td>\n",
       "    </tr>\n",
       "    <tr>\n",
       "      <td>9</td>\n",
       "      <td>2015-09-15 16:21:06</td>\n",
       "      <td>1217315</td>\n",
       "      <td>view</td>\n",
       "      <td>10572</td>\n",
       "      <td>NaN</td>\n",
       "      <td>1037</td>\n",
       "    </tr>\n",
       "    <tr>\n",
       "      <td>10</td>\n",
       "      <td>2015-09-16 00:00:17</td>\n",
       "      <td>1217315</td>\n",
       "      <td>view</td>\n",
       "      <td>10572</td>\n",
       "      <td>NaN</td>\n",
       "      <td>1037</td>\n",
       "    </tr>\n",
       "  </tbody>\n",
       "</table>\n",
       "</div>"
      ],
      "text/plain": [
       "             timestamp  visitorid        event  itemid  transactionid  \\\n",
       "0  2015-09-15 09:46:37    1217315         view  461686            NaN   \n",
       "1  2015-09-15 09:47:10    1217315         view   10572            NaN   \n",
       "2  2015-09-15 09:49:59    1217315         view  461686            NaN   \n",
       "3  2015-09-15 09:50:25    1217315         view   10572            NaN   \n",
       "4  2015-09-15 09:54:36    1217315         view  461686            NaN   \n",
       "5  2015-09-15 09:56:08    1217315    addtocart  461686            NaN   \n",
       "6  2015-09-15 09:57:21    1217315         view   32581            NaN   \n",
       "7  2015-09-15 09:58:02    1217315    addtocart   32581            NaN   \n",
       "8  2015-09-15 10:01:13    1217315  transaction  461686         7909.0   \n",
       "9  2015-09-15 16:21:06    1217315         view   10572            NaN   \n",
       "10 2015-09-16 00:00:17    1217315         view   10572            NaN   \n",
       "\n",
       "   categoryid  \n",
       "0        1037  \n",
       "1        1037  \n",
       "2        1037  \n",
       "3        1037  \n",
       "4        1037  \n",
       "5        1037  \n",
       "6        1037  \n",
       "7        1037  \n",
       "8        1037  \n",
       "9        1037  \n",
       "10       1037  "
      ]
     },
     "execution_count": 44,
     "metadata": {},
     "output_type": "execute_result"
    }
   ],
   "source": [
    "## Activity from visitor 1217315\n",
    "events[events['visitorid'] == 1217315].merge(right = category_ids, how = 'left', on = 'itemid')"
   ]
  },
  {
   "cell_type": "markdown",
   "metadata": {},
   "source": [
    "#### In the above dataframe, we can see an example of the scenario playing out. The visitor began by viewing a popular item, itemid 461686, clicked on a popular similar item, went back and forth between the two (Stage 2), looked at another similar item from the category (Stage 3), and ended up purchasing the product (Stage 4). "
   ]
  }
 ],
 "metadata": {
  "kernelspec": {
   "display_name": "Python 3",
   "language": "python",
   "name": "python3"
  },
  "language_info": {
   "codemirror_mode": {
    "name": "ipython",
    "version": 3
   },
   "file_extension": ".py",
   "mimetype": "text/x-python",
   "name": "python",
   "nbconvert_exporter": "python",
   "pygments_lexer": "ipython3",
   "version": "3.7.4"
  }
 },
 "nbformat": 4,
 "nbformat_minor": 4
}
